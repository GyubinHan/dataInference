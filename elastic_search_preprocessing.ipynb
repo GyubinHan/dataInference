{
 "cells": [
  {
   "cell_type": "code",
   "execution_count": 88,
   "id": "4016e379",
   "metadata": {
    "scrolled": true
   },
   "outputs": [
    {
     "name": "stdout",
     "output_type": "stream",
     "text": [
      "    container_name  cpu_usage        new_timestamp  metricset_timestamp  \\\n",
      "0    data-broker-1   0.020931  2023-06-21 18:28:45  2023-06-21T18:28:48   \n",
      "1    data-broker-1   0.020021  2023-06-21 18:29:10  2023-06-21T18:29:13   \n",
      "2    data-broker-1   0.021034  2023-06-21 22:09:05  2023-06-21T22:09:08   \n",
      "3    data-broker-1   0.020422  2023-06-21 22:09:10  2023-06-21T22:09:13   \n",
      "4    data-broker-1   0.020422  2023-06-21 22:09:10  2023-06-21T22:09:13   \n",
      "..             ...        ...                  ...                  ...   \n",
      "121  data-broker-1   0.018989  2023-06-22 02:23:00  2023-06-22T02:23:03   \n",
      "122  data-broker-1   0.020319  2023-06-22 02:23:05  2023-06-22T02:23:08   \n",
      "123  data-broker-1   0.020319  2023-06-22 02:23:05  2023-06-22T02:23:08   \n",
      "124  data-broker-1   0.020421  2023-06-22 02:23:10  2023-06-22T02:23:13   \n",
      "125  data-broker-1   0.020421  2023-06-22 02:23:10  2023-06-22T02:23:13   \n",
      "\n",
      "           service_name                                          api_name  \\\n",
      "0    databroker-service        get /ndxpro/v1/broker/statistics/list/date   \n",
      "1    databroker-service  get /ndxpro/v1/broker/statistics/list/model-type   \n",
      "2    databroker-service       get /ndxpro/v1/broker/entities/iot/provider   \n",
      "3    databroker-service           get /ndxpro/v1/broker/entities/provider   \n",
      "4    databroker-service           get /ndxpro/v1/broker/entities/provider   \n",
      "..                  ...                                               ...   \n",
      "121  databroker-service       get /ndxpro/v1/broker/entities/iot/provider   \n",
      "122  databroker-service       get /ndxpro/v1/broker/entities/iot/provider   \n",
      "123  databroker-service       get /ndxpro/v1/broker/entities/iot/provider   \n",
      "124  databroker-service        get /ndxpro/v1/broker/entities/iot/history   \n",
      "125  databroker-service        get /ndxpro/v1/broker/entities/iot/history   \n",
      "\n",
      "     duration     zipkin_timestamp  \n",
      "0      39.409  2023-06-21T18:28:45  \n",
      "1       6.339  2023-06-21T18:29:13  \n",
      "2      13.428  2023-06-21T22:09:08  \n",
      "3       4.144  2023-06-21T22:09:10  \n",
      "4       3.877  2023-06-21T22:09:11  \n",
      "..        ...                  ...  \n",
      "121    22.205  2023-06-22T02:23:04  \n",
      "122    19.511  2023-06-22T02:23:05  \n",
      "123    19.472  2023-06-22T02:23:05  \n",
      "124     5.295  2023-06-22T02:23:10  \n",
      "125     7.596  2023-06-22T02:23:10  \n",
      "\n",
      "[126 rows x 8 columns]\n"
     ]
    }
   ],
   "source": [
    "import pandas as pd\n",
    "import numpy as np\n",
    "from datetime import datetime,timedelta\n",
    "\n",
    "es_df = pd.read_csv(\"elastic-data-broker-1-5seconds.csv\")\n",
    "zipkin_df = pd.read_csv(\"zipkin-data-broker-1-5seconds.csv\")\n",
    "\n",
    "\n",
    "def time_categorize(df):\n",
    "    # df new column name new_timestamp\n",
    "    df['new_timestamp'] = 0\n",
    "    # drop past number id \n",
    "    df.drop(['Unnamed: 0'], axis = 1, inplace = True)\n",
    "\n",
    "    for idx, row in df.iterrows():\n",
    "        timestamp = datetime.strptime(row['timestamp'],\"%Y-%m-%dT%H:%M:%S\")\n",
    "    #     seconds = datetime.strptime(row['timestamp'],\"%S\")\n",
    "        sec = timestamp.strftime(\"%S\")\n",
    "        new_sec = int(sec)\n",
    "\n",
    "    #     print((new_sec%100//10)*10 + (new_sec%10)\n",
    "        es_df.loc[idx]['new_timestamp']\n",
    "\n",
    "\n",
    "\n",
    "        # new_timestamp in catetory every 5 seconds\n",
    "        if new_sec%10 < 5:\n",
    "            # es_df.loc[es_df['timestamp'],\"new_timestamp\"] = timestamp - timedelta(seconds = new_sec%10)\n",
    "            df.loc[idx:idx+1,'new_timestamp'] = timestamp - timedelta(seconds = new_sec%10)\n",
    "            # print((new_sec%100//10)*10) + (new_sec%10)\n",
    "            # print(            timestamp - timedelta(seconds = new_sec%10))\n",
    "\n",
    "        else:\n",
    "            # es_df.loc[idx]['new_timestamp'] = timestamp - timedelta(seconds = 3)\n",
    "            # es_df.loc[es_df['timestamp'],\"new_timestamp\"] = timestamp - timedelta(seconds = 3)\n",
    "            # print(new_sec)\n",
    "            df.loc[idx:idx+1,'new_timestamp'] = timestamp - timedelta(seconds = new_sec%10 -5)\n",
    "                # print(            timestamp - timedelta(seconds = 3))\n",
    "\n",
    "    return df\n",
    "\n",
    "        \n",
    "        \n",
    "                \n",
    "        \n",
    "        \n",
    "#     print(new_sec, (new_sec%100//10)*10 , new_sec%10)\n",
    "#     print(timestamp,datetime.strptime(sec,\"%S\"))\n",
    "#     es_df['categorical_column'] = pd.cut(es_df['time_diff_seconds'], bins=[0, 5, 10,15,20,25,30,35,40,45,50,55],\n",
    "#                                          labels=['0~5','5~10','10~15','15~20','20~25','25~30',\n",
    "#                                                 '30~35','35~40','40~45','45~50','50~55'])\n",
    "        \n",
    "es_df = time_categorize(es_df)\n",
    "zipkin_df = time_categorize(zipkin_df)\n",
    "\n",
    "\n",
    "\n",
    "es_df['metricset_timestamp'] = es_df['timestamp']\n",
    "# print(es_df)\n",
    "es_df.drop(['timestamp'], axis = 1, inplace = True)\n",
    "# print(es_df)\n",
    "\n",
    "        \n",
    "\n",
    "zipkin_df['zipkin_timestamp'] = zipkin_df['timestamp']\n",
    "# print(zipkin_df)\n",
    "zipkin_df.drop(['timestamp'], axis = 1, inplace = True)\n",
    "# print(zipkin_df)\n",
    "\n",
    "\n",
    "new_df = merged_df = pd.merge(zipkin_df,es_df on='new_timestamp')\n",
    "\n",
    "print(new_df)\n"
   ]
  },
  {
   "cell_type": "code",
   "execution_count": null,
   "id": "140d4233",
   "metadata": {},
   "outputs": [],
   "source": []
  },
  {
   "cell_type": "code",
   "execution_count": 15,
   "id": "4652abf2",
   "metadata": {},
   "outputs": [
    {
     "name": "stdout",
     "output_type": "stream",
     "text": [
      "    container_name  cpu_usage            timestamp\n",
      "0    data-broker-1   0.019232  2023-06-21T17:04:51\n",
      "1    data-broker-1   0.019669  2023-06-21T17:04:58\n",
      "2    data-broker-1   0.019495  2023-06-21T17:05:03\n",
      "3    data-broker-1   0.022803  2023-06-21T17:05:08\n",
      "4    data-broker-1   0.019774  2023-06-21T17:05:13\n",
      "..             ...        ...                  ...\n",
      "96   data-broker-1   0.021405  2023-06-21T17:12:53\n",
      "97   data-broker-1   0.020923  2023-06-21T17:12:58\n",
      "98   data-broker-1   0.021647  2023-06-21T17:13:03\n",
      "99   data-broker-1   0.021169  2023-06-21T17:13:08\n",
      "100  data-broker-1   0.020632  2023-06-21T17:13:13\n",
      "\n",
      "[101 rows x 3 columns]\n"
     ]
    }
   ],
   "source": [
    "print(es_df.loc[:100])"
   ]
  },
  {
   "cell_type": "code",
   "execution_count": null,
   "id": "d661a9cf",
   "metadata": {},
   "outputs": [],
   "source": []
  }
 ],
 "metadata": {
  "kernelspec": {
   "display_name": "Python 3 (ipykernel)",
   "language": "python",
   "name": "python3"
  },
  "language_info": {
   "codemirror_mode": {
    "name": "ipython",
    "version": 3
   },
   "file_extension": ".py",
   "mimetype": "text/x-python",
   "name": "python",
   "nbconvert_exporter": "python",
   "pygments_lexer": "ipython3",
   "version": "3.10.11"
  },
  "vscode": {
   "interpreter": {
    "hash": "509767fb994b5d5d7ec10efd71924c54799d9d3f5236b16bdcb9c5bf135bb486"
   }
  }
 },
 "nbformat": 4,
 "nbformat_minor": 5
}
