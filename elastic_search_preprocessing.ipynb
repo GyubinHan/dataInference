{
 "cells": [
  {
   "cell_type": "code",
   "execution_count": 76,
   "id": "8cd082a3",
   "metadata": {},
   "outputs": [
    {
     "name": "stdout",
     "output_type": "stream",
     "text": [
      "      container_name  cpu_usage            timestamp        new_timestamp\n",
      "0      data-broker-1   0.019232  2023-06-21T17:04:51  2023-06-21 17:04:50\n",
      "1      data-broker-1   0.019669  2023-06-21T17:04:58  2023-06-21 17:04:55\n",
      "2      data-broker-1   0.019495  2023-06-21T17:05:03  2023-06-21 17:05:00\n",
      "3      data-broker-1   0.022803  2023-06-21T17:05:08  2023-06-21 17:05:05\n",
      "4      data-broker-1   0.019774  2023-06-21T17:05:13  2023-06-21 17:05:10\n",
      "...              ...        ...                  ...                  ...\n",
      "11801  data-broker-1   0.019497  2023-06-22T09:28:18  2023-06-22 09:28:15\n",
      "11802  data-broker-1   0.019605  2023-06-22T09:28:23  2023-06-22 09:28:20\n",
      "11803  data-broker-1   0.021081  2023-06-22T09:28:28  2023-06-22 09:28:25\n",
      "11804  data-broker-1   0.020004  2023-06-22T09:28:33  2023-06-22 09:28:30\n",
      "11805  data-broker-1   0.020353  2023-06-22T09:28:38  2023-06-22 09:28:35\n",
      "\n",
      "[11806 rows x 4 columns]\n",
      "            service_name                                           api_name  \\\n",
      "0     databroker-service            get /ndxpro/v1/broker/entities/provider   \n",
      "1     databroker-service         get /ndxpro/v1/broker/entities/iot/history   \n",
      "2     databroker-service         get /ndxpro/v1/broker/entities/iot/history   \n",
      "3     databroker-service  get /ndxpro/v1/broker/entities/provider/{entit...   \n",
      "4     databroker-service         get /ndxpro/v1/broker/entities/iot/history   \n",
      "...                  ...                                                ...   \n",
      "8904  databroker-service        get /ndxpro/v1/broker/entities/iot/provider   \n",
      "8905  databroker-service         get /ndxpro/v1/broker/entities/iot/history   \n",
      "8906  databroker-service  get /ndxpro/v1/broker/entities/iot/history/{hi...   \n",
      "8907  databroker-service        get /ndxpro/v1/broker/entities/iot/provider   \n",
      "8908  databroker-service        get /ndxpro/v1/broker/entities/iot/provider   \n",
      "\n",
      "                timestamp  duration        new_timestamp  \n",
      "0     2023-06-21T22:09:11     3.877  2023-06-21 22:09:10  \n",
      "1     2023-06-22T02:23:01     4.736  2023-06-22 02:23:00  \n",
      "2     2023-06-22T02:23:10     7.596  2023-06-22 02:23:10  \n",
      "3     2023-06-21T22:55:24     5.900  2023-06-21 22:55:20  \n",
      "4     2023-06-21T23:48:52    55.350  2023-06-21 23:48:50  \n",
      "...                   ...       ...                  ...  \n",
      "8904  2023-06-20T17:51:03    11.853  2023-06-20 17:51:00  \n",
      "8905  2023-06-20T17:51:10    26.400  2023-06-20 17:51:10  \n",
      "8906  2023-06-20T17:51:11     4.961  2023-06-20 17:51:10  \n",
      "8907  2023-06-20T17:51:08    17.121  2023-06-20 17:51:05  \n",
      "8908  2023-06-20T17:51:08    13.272  2023-06-20 17:51:05  \n",
      "\n",
      "[8909 rows x 5 columns]\n"
     ]
    }
   ],
   "source": [
    "import pandas as pd\n",
    "import numpy as np\n",
    "from datetime import datetime,timedelta\n",
    "\n",
    "es_df = pd.read_csv(\"elastic-data-broker-1-5seconds.csv\")\n",
    "zipkin_df = pd.read_csv(\"zipkin-data-broker-1-5seconds.csv\")\n",
    "\n",
    "\n",
    "\n",
    "def time_categorize(df):\n",
    "    # df new column name new_timestamp\n",
    "    df['new_timestamp'] = 0\n",
    "    # drop past number id \n",
    "    df.drop(['Unnamed: 0'], axis = 1, inplace = True)\n",
    "\n",
    "    for idx, row in df.iterrows():\n",
    "        timestamp = datetime.strptime(row['timestamp'],\"%Y-%m-%dT%H:%M:%S\")\n",
    "    #     seconds = datetime.strptime(row['timestamp'],\"%S\")\n",
    "        sec = timestamp.strftime(\"%S\")\n",
    "        new_sec = int(sec)\n",
    "\n",
    "    #     print((new_sec%100//10)*10 + (new_sec%10)\n",
    "        es_df.loc[idx]['new_timestamp']\n",
    "\n",
    "\n",
    "\n",
    "        # new_timestamp in catetory every 5 seconds\n",
    "        if new_sec%10 < 5:\n",
    "            # es_df.loc[es_df['timestamp'],\"new_timestamp\"] = timestamp - timedelta(seconds = new_sec%10)\n",
    "            df.loc[idx:idx+1,'new_timestamp'] = timestamp - timedelta(seconds = new_sec%10)\n",
    "            # print((new_sec%100//10)*10) + (new_sec%10)\n",
    "            # print(            timestamp - timedelta(seconds = new_sec%10))\n",
    "\n",
    "        else:\n",
    "            # es_df.loc[idx]['new_timestamp'] = timestamp - timedelta(seconds = 3)\n",
    "            # es_df.loc[es_df['timestamp'],\"new_timestamp\"] = timestamp - timedelta(seconds = 3)\n",
    "            # print(new_sec)\n",
    "            df.loc[idx:idx+1,'new_timestamp'] = timestamp - timedelta(seconds = new_sec%10 -5)\n",
    "                # print(            timestamp - timedelta(seconds = 3))\n",
    "\n",
    "    return df\n",
    "\n",
    "        \n",
    "        \n",
    "                \n",
    "        \n",
    "        \n",
    "#     print(new_sec, (new_sec%100//10)*10 , new_sec%10)\n",
    "#     print(timestamp,datetime.strptime(sec,\"%S\"))\n",
    "#     es_df['categorical_column'] = pd.cut(es_df['time_diff_seconds'], bins=[0, 5, 10,15,20,25,30,35,40,45,50,55],\n",
    "#                                          labels=['0~5','5~10','10~15','15~20','20~25','25~30',\n",
    "#                                                 '30~35','35~40','40~45','45~50','50~55'])\n",
    "        \n",
    "es_df = time_categorize(es_df)\n",
    "zipkin_df = time_categorize(zipkin_df)\n",
    "\n",
    "\n",
    "print(es_df)\n",
    "print(zipkin_df)\n",
    "        \n"
   ]
  },
  {
   "cell_type": "code",
   "execution_count": null,
   "id": "f27ed897",
   "metadata": {},
   "outputs": [],
   "source": []
  },
  {
   "cell_type": "code",
   "execution_count": 15,
   "id": "4652abf2",
   "metadata": {},
   "outputs": [
    {
     "name": "stdout",
     "output_type": "stream",
     "text": [
      "    container_name  cpu_usage            timestamp\n",
      "0    data-broker-1   0.019232  2023-06-21T17:04:51\n",
      "1    data-broker-1   0.019669  2023-06-21T17:04:58\n",
      "2    data-broker-1   0.019495  2023-06-21T17:05:03\n",
      "3    data-broker-1   0.022803  2023-06-21T17:05:08\n",
      "4    data-broker-1   0.019774  2023-06-21T17:05:13\n",
      "..             ...        ...                  ...\n",
      "96   data-broker-1   0.021405  2023-06-21T17:12:53\n",
      "97   data-broker-1   0.020923  2023-06-21T17:12:58\n",
      "98   data-broker-1   0.021647  2023-06-21T17:13:03\n",
      "99   data-broker-1   0.021169  2023-06-21T17:13:08\n",
      "100  data-broker-1   0.020632  2023-06-21T17:13:13\n",
      "\n",
      "[101 rows x 3 columns]\n"
     ]
    }
   ],
   "source": [
    "print(es_df.loc[:100])"
   ]
  },
  {
   "cell_type": "code",
   "execution_count": null,
   "id": "d661a9cf",
   "metadata": {},
   "outputs": [],
   "source": []
  }
 ],
 "metadata": {
  "kernelspec": {
   "display_name": "Python 3 (ipykernel)",
   "language": "python",
   "name": "python3"
  },
  "language_info": {
   "codemirror_mode": {
    "name": "ipython",
    "version": 3
   },
   "file_extension": ".py",
   "mimetype": "text/x-python",
   "name": "python",
   "nbconvert_exporter": "python",
   "pygments_lexer": "ipython3",
   "version": "3.10.8"
  }
 },
 "nbformat": 4,
 "nbformat_minor": 5
}
