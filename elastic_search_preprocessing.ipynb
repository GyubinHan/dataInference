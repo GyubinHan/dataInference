{
 "cells": [
  {
   "cell_type": "code",
   "execution_count": 69,
   "id": "4706e34a",
   "metadata": {},
   "outputs": [
    {
     "name": "stdout",
     "output_type": "stream",
     "text": [
      "      container_name  cpu_usage            timestamp   time_diff_seconds\n",
      "0      data-broker-1   0.019232  2023-06-21T17:04:51 2023-06-22 09:28:35\n",
      "1      data-broker-1   0.019669  2023-06-21T17:04:58 2023-06-22 09:28:35\n",
      "2      data-broker-1   0.019495  2023-06-21T17:05:03 2023-06-22 09:28:35\n",
      "3      data-broker-1   0.022803  2023-06-21T17:05:08 2023-06-22 09:28:35\n",
      "4      data-broker-1   0.019774  2023-06-21T17:05:13 2023-06-22 09:28:35\n",
      "...              ...        ...                  ...                 ...\n",
      "11801  data-broker-1   0.019497  2023-06-22T09:28:18 2023-06-22 09:28:35\n",
      "11802  data-broker-1   0.019605  2023-06-22T09:28:23 2023-06-22 09:28:35\n",
      "11803  data-broker-1   0.021081  2023-06-22T09:28:28 2023-06-22 09:28:35\n",
      "11804  data-broker-1   0.020004  2023-06-22T09:28:33 2023-06-22 09:28:35\n",
      "11805  data-broker-1   0.020353  2023-06-22T09:28:38 2023-06-22 09:28:35\n",
      "\n",
      "[11806 rows x 4 columns]\n"
     ]
    }
   ],
   "source": [
    "import pandas as pd\n",
    "import numpy as np\n",
    "from datetime import datetime,timedelta\n",
    "\n",
    "es_df = pd.read_csv(\"elastic-data-broker-1-5seconds.csv\")\n",
    "# drop past number id \n",
    "es_df.drop(['Unnamed: 0'], axis = 1, inplace = True)\n",
    "\n",
    "for idx, row in es_df.iterrows():\n",
    "    timestamp = datetime.strptime(row['timestamp'],\"%Y-%m-%dT%H:%M:%S\")\n",
    "#     seconds = datetime.strptime(row['timestamp'],\"%S\")\n",
    "    sec = timestamp.strftime(\"%S\")\n",
    "    new_sec = int(sec)\n",
    "    \n",
    "#     print((new_sec%100//10)*10 + (new_sec%10)\n",
    "\n",
    "    if ((new_sec%100//10)*10) + (new_sec%10) < 5:\n",
    "        es_df['time_diff_seconds'] = timestamp - timedelta(seconds = )\n",
    "        \n",
    "    elif ((new_sec%100//10)*10) + (new_sec%10) > 5:\n",
    "        es_df['time_diff_seconds'] = timestamp - timedelta(seconds = 3)\n",
    "        \n",
    "        \n",
    "        \n",
    "        \n",
    "        \n",
    "#     print(new_sec, (new_sec%100//10)*10 , new_sec%10)\n",
    "#     print(timestamp,datetime.strptime(sec,\"%S\"))\n",
    "#     es_df['categorical_column'] = pd.cut(es_df['time_diff_seconds'], bins=[0, 5, 10,15,20,25,30,35,40,45,50,55],\n",
    "#                                          labels=['0~5','5~10','10~15','15~20','20~25','25~30',\n",
    "#                                                 '30~35','35~40','40~45','45~50','50~55'])\n",
    "        \n",
    "\n",
    "print(es_df)\n",
    "        \n"
   ]
  },
  {
   "cell_type": "code",
   "execution_count": 15,
   "id": "4652abf2",
   "metadata": {},
   "outputs": [
    {
     "name": "stdout",
     "output_type": "stream",
     "text": [
      "    container_name  cpu_usage            timestamp\n",
      "0    data-broker-1   0.019232  2023-06-21T17:04:51\n",
      "1    data-broker-1   0.019669  2023-06-21T17:04:58\n",
      "2    data-broker-1   0.019495  2023-06-21T17:05:03\n",
      "3    data-broker-1   0.022803  2023-06-21T17:05:08\n",
      "4    data-broker-1   0.019774  2023-06-21T17:05:13\n",
      "..             ...        ...                  ...\n",
      "96   data-broker-1   0.021405  2023-06-21T17:12:53\n",
      "97   data-broker-1   0.020923  2023-06-21T17:12:58\n",
      "98   data-broker-1   0.021647  2023-06-21T17:13:03\n",
      "99   data-broker-1   0.021169  2023-06-21T17:13:08\n",
      "100  data-broker-1   0.020632  2023-06-21T17:13:13\n",
      "\n",
      "[101 rows x 3 columns]\n"
     ]
    }
   ],
   "source": [
    "print(es_df.loc[:100])"
   ]
  },
  {
   "cell_type": "code",
   "execution_count": null,
   "id": "d661a9cf",
   "metadata": {},
   "outputs": [],
   "source": []
  }
 ],
 "metadata": {
  "kernelspec": {
   "display_name": "Python 3 (ipykernel)",
   "language": "python",
   "name": "python3"
  },
  "language_info": {
   "codemirror_mode": {
    "name": "ipython",
    "version": 3
   },
   "file_extension": ".py",
   "mimetype": "text/x-python",
   "name": "python",
   "nbconvert_exporter": "python",
   "pygments_lexer": "ipython3",
   "version": "3.10.8"
  }
 },
 "nbformat": 4,
 "nbformat_minor": 5
}
