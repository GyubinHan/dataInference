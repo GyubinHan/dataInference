{
 "cells": [
  {
   "cell_type": "code",
   "execution_count": 3,
   "id": "77b8b062",
   "metadata": {},
   "outputs": [
    {
     "name": "stdout",
     "output_type": "stream",
     "text": [
      "Collecting scikit-learn\n",
      "  Obtaining dependency information for scikit-learn from https://files.pythonhosted.org/packages/e1/5f/0b5b11fd766b674b0eb887e15006175503f23c230ced2a22fb186262e1e5/scikit_learn-1.3.0-cp310-cp310-macosx_12_0_arm64.whl.metadata\n",
      "  Using cached scikit_learn-1.3.0-cp310-cp310-macosx_12_0_arm64.whl.metadata (11 kB)\n",
      "Requirement already satisfied: numpy>=1.17.3 in /opt/homebrew/lib/python3.10/site-packages (from scikit-learn) (1.23.2)\n",
      "Requirement already satisfied: scipy>=1.5.0 in /opt/homebrew/lib/python3.10/site-packages (from scikit-learn) (1.9.1)\n",
      "Collecting joblib>=1.1.1 (from scikit-learn)\n",
      "  Obtaining dependency information for joblib>=1.1.1 from https://files.pythonhosted.org/packages/28/08/9dcdaa5aac4634e4c23af26d92121f7ce445c630efa0d3037881ae2407fb/joblib-1.3.1-py3-none-any.whl.metadata\n",
      "  Using cached joblib-1.3.1-py3-none-any.whl.metadata (5.4 kB)\n",
      "Collecting threadpoolctl>=2.0.0 (from scikit-learn)\n",
      "  Obtaining dependency information for threadpoolctl>=2.0.0 from https://files.pythonhosted.org/packages/81/12/fd4dea011af9d69e1cad05c75f3f7202cdcbeac9b712eea58ca779a72865/threadpoolctl-3.2.0-py3-none-any.whl.metadata\n",
      "  Using cached threadpoolctl-3.2.0-py3-none-any.whl.metadata (10.0 kB)\n",
      "Using cached scikit_learn-1.3.0-cp310-cp310-macosx_12_0_arm64.whl (9.5 MB)\n",
      "Using cached joblib-1.3.1-py3-none-any.whl (301 kB)\n",
      "Using cached threadpoolctl-3.2.0-py3-none-any.whl (15 kB)\n",
      "Installing collected packages: threadpoolctl, joblib, scikit-learn\n",
      "Successfully installed joblib-1.3.1 scikit-learn-1.3.0 threadpoolctl-3.2.0\n",
      "\n",
      "\u001b[1m[\u001b[0m\u001b[34;49mnotice\u001b[0m\u001b[1;39;49m]\u001b[0m\u001b[39;49m A new release of pip is available: \u001b[0m\u001b[31;49m23.2\u001b[0m\u001b[39;49m -> \u001b[0m\u001b[32;49m23.2.1\u001b[0m\n",
      "\u001b[1m[\u001b[0m\u001b[34;49mnotice\u001b[0m\u001b[1;39;49m]\u001b[0m\u001b[39;49m To update, run: \u001b[0m\u001b[32;49mpython3.10 -m pip install --upgrade pip\u001b[0m\n"
     ]
    }
   ],
   "source": [
    "!pip install scikit-learn"
   ]
  },
  {
   "cell_type": "code",
   "execution_count": 5,
   "id": "d432e212",
   "metadata": {},
   "outputs": [
    {
     "name": "stdout",
     "output_type": "stream",
     "text": [
      "['get /ndxpro/v1/aibroker/entities/iot/history'\n",
      " 'get /ndxpro/v1/aibroker/entities/iot' 'get /ndxpro/v1/aibroker/entities'\n",
      " 'get /ndxpro/v1/aibroker/entities/iot/temporal'\n",
      " 'get /ndxpro/v1/aibroker/entities/iot/{entityid}'\n",
      " 'get /ndxpro/v1/aibroker/entities/{entityid}']\n"
     ]
    },
    {
     "data": {
      "text/plain": [
       "<AxesSubplot: xlabel='ds'>"
      ]
     },
     "execution_count": 5,
     "metadata": {},
     "output_type": "execute_result"
    },
    {
     "data": {
      "image/png": "[encoded data removed]",
      "text/plain": [
       "<Figure size 640x480 with 1 Axes>"
      ]
     },
     "metadata": {},
     "output_type": "display_data"
    }
   ],
   "source": [
    "import numpy as np\n",
    "import pandas as pd\n",
    "from multiprocessing import Pool, cpu_count\n",
    "import matplotlib.pyplot as plt\n",
    "from prophet import Prophet\n",
    "from prophet.plot import plot_plotly\n",
    "import plotly.offline as py\n",
    "import cmdstanpy\n",
    "from sklearn.preprocessing import LabelEncoder\n",
    "# cmdstanpy.install_cmdstan()\n",
    "# cmdstanpy.install_cmdstan(compiler=True) \n",
    "encode = LabelEncoder()\n",
    "\n",
    "# py.init_notebook_mode()\n",
    "\n",
    "\n",
    "metric1 = pd.read_csv(\"metricbeat-230802-ai-broker-1.csv\")\n",
    "metric2 = pd.read_csv(\"metricbeat-230802-ai-broker-2.csv\")\n",
    "metric3 = pd.read_csv(\"metricbeat-230802-ai-broker-3.csv\")\n",
    "metric4 = pd.read_csv(\"metricbeat-230802-ai-broker-4.csv\")\n",
    "metric5 = pd.read_csv(\"metricbeat-230802-ai-broker-5.csv\")\n",
    "\n",
    "zipkin = pd.read_csv(\"zipkin-230801-all-broker.csv\")\n",
    "\n",
    "\n",
    "\n",
    "metric_lst = [metric1,metric2,metric3,metric4,metric5]\n",
    "metric_merge = pd.merge(metric1,metric2, on='container_name')\n",
    "metric_merge = pd.concat([metric1,metric2,metric3,metric4,metric5])\n",
    "metric_merge.drop(['Unnamed: 0'], axis = 1, inplace = True)\n",
    "metric_merge.drop(['new_index'], axis = 1, inplace = True)\n",
    "zipkin.drop(['Unnamed: 0'], axis = 1, inplace = True)\n",
    "zipkin.drop(['new_index'], axis = 1, inplace = True)\n",
    "# print(metric_merge)\n",
    "\n",
    "merged = pd.merge(metric_merge,zipkin,on=['timestamp_5seconds'])\n",
    "# merged.drop(['Unnamed: 0'], axis = 1, inplace = True)\n",
    "# merged.drop(['new_index'], axis = 1, inplace = True)\n",
    "# print(merged)\n",
    "print(merged['api_name'].unique())\n",
    "\n",
    "api_name_lst = []\n",
    "for i in merged[\"api_name\"].unique():\n",
    "    api_name_lst.append(i)\n",
    "\n",
    "\n",
    "train_dataset = pd.DataFrame()\n",
    "train_dataset['ds'] = pd.to_datetime(merged['timestamp_5seconds'])\n",
    "train_dataset['y'] = merged['cpu_usage']\n",
    "# train_dataset['duration'] = merged['duration']\n",
    "\n",
    "# plot\n",
    "train_dataset.set_index('ds').plot()\n",
    "\n",
    "# print(train_dataset)\n",
    "# print(type(train_dataset))\n",
    "\n",
    "\n",
    "# ## plot\n",
    "# # train_dataset.set_index('ds').plot()\n",
    "\n",
    "\n",
    "# # plt.plot(train_dataset['ds'],train_dataset[''])\n",
    "# # plt.show()\n",
    "# # prophet modeling\n",
    "# prophet_basic = Prophet()\n",
    "# prophet_basic.fit(train_dataset)\n",
    "\n",
    "\n",
    "# future = prophet_basic.make_future_dataframe(periods=1)\n",
    "# print(future.tail())\n",
    "\n",
    "\n",
    "# forecast = prophet_basic.predict(future)\n",
    "# print(forecast)\n"
   ]
  },
  {
   "cell_type": "code",
   "execution_count": null,
   "id": "e5abfbe5",
   "metadata": {},
   "outputs": [],
   "source": []
  }
 ],
 "metadata": {
  "kernelspec": {
   "display_name": "Python 3 (ipykernel)",
   "language": "python",
   "name": "python3"
  },
  "language_info": {
   "codemirror_mode": {
    "name": "ipython",
    "version": 3
   },
   "file_extension": ".py",
   "mimetype": "text/x-python",
   "name": "python",
   "nbconvert_exporter": "python",
   "pygments_lexer": "ipython3",
   "version": "3.10.12"
  }
 },
 "nbformat": 4,
 "nbformat_minor": 5
}
